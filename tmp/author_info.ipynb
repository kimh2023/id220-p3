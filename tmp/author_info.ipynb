{
 "cells": [
  {
   "cell_type": "code",
   "execution_count": 2,
   "metadata": {},
   "outputs": [],
   "source": [
    "import csv\n",
    "from collections import Counter\n",
    "from datetime import datetime\n",
    "\n",
    "all_responses_month = {}\n",
    "\n",
    "input_filename = 'all_months_author_added.csv'\n",
    "output_filename = 'all_months_author_added_1.csv'\n",
    "author_info = {}\n",
    "\n",
    "with open(input_filename, 'r', encoding='utf-8') as read_file:\n",
    "    csv_reader = csv.DictReader(read_file)\n",
    "\n",
    "    with open(output_filename, 'w', encoding='utf-8', newline='') as csv_file:\n",
    "        csv_writer = csv.writer(csv_file)\n",
    "        old_data_header = ['month','rank','title','author','primary_isbn10','dagger','publisher','weeks_on_list','genre','pages']\n",
    "        header = ['author_dob']\n",
    "        csv_writer.writerow(old_data_header+header)  # Add other column headers as needed\n",
    "    \n",
    "        for row in csv_reader:\n",
    "            combined_row = []\n",
    "\n",
    "            for column in old_data_header:\n",
    "                combined_row.append(row[column])\n",
    "\n",
    "            if row['author'] in author_info:\n",
    "                 for column in header:\n",
    "                    value = author_info[row['author']][column]\n",
    "                    combined_row.append(value)\n",
    "            else:\n",
    "                author_info[row['author']] = {}\n",
    "                for column in header:\n",
    "                    value = input(f\"{row['title']}, {row['author']} => {column}\")\n",
    "\n",
    "                    if column == 'dob':\n",
    "                        value = datetime.strptime(value, '%Y-%m-%d')\n",
    "                    \n",
    "                    author_info[row['author']][column] = value\n",
    "\n",
    "                    combined_row.append(value)\n",
    "\n",
    "            csv_writer.writerow(combined_row)\n"
   ]
  },
  {
   "cell_type": "code",
   "execution_count": null,
   "metadata": {},
   "outputs": [],
   "source": [
    "#male<->female\n",
    "#USA\n",
    "#dual? just go with country they work in now\n",
    "#living area == state level OR country level\n",
    "#if dob is year -> use jan 1\n"
   ]
  }
 ],
 "metadata": {
  "kernelspec": {
   "display_name": "Python 3",
   "language": "python",
   "name": "python3"
  },
  "language_info": {
   "codemirror_mode": {
    "name": "ipython",
    "version": 3
   },
   "file_extension": ".py",
   "mimetype": "text/x-python",
   "name": "python",
   "nbconvert_exporter": "python",
   "pygments_lexer": "ipython3",
   "version": "3.11.6"
  }
 },
 "nbformat": 4,
 "nbformat_minor": 2
}
