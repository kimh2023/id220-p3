{
 "cells": [
  {
   "cell_type": "code",
   "execution_count": 20,
   "metadata": {},
   "outputs": [],
   "source": [
    "import requests\n",
    "import csv\n",
    "import json\n",
    "import time\n",
    "from datetime import datetime, timedelta\n",
    "from collections import defaultdict\n",
    "\n",
    "api_key = 'mzrsaV5E9ZwVPQ2biOQGyYansI7Ukh5p'\n"
   ]
  },
  {
   "cell_type": "code",
   "execution_count": 21,
   "metadata": {},
   "outputs": [],
   "source": [
    "def print_json(json_data):\n",
    "    print(json.dumps(json_data, indent=2))\n",
    "\n",
    "def write_jsonl_file(data, filename):\n",
    "    # Write data to a JSONL file\n",
    "    with open(filename, 'a', encoding='utf-8') as file:\n",
    "        json.dump(data, file, ensure_ascii=False)\n",
    "        file.write('\\n')\n"
   ]
  },
  {
   "cell_type": "code",
   "execution_count": 22,
   "metadata": {},
   "outputs": [],
   "source": [
    "def return_response(url) :\n",
    "    response = requests.get(url)\n",
    "    return response.json()\n",
    "\n",
    "def generate_date_range(start_date, end_date):\n",
    "    # Generate a date range between start_date and end_date\n",
    "    current_date = start_date\n",
    "    while current_date <= end_date:\n",
    "        yield current_date\n",
    "        current_date += timedelta(weeks=1)\n"
   ]
  },
  {
   "cell_type": "markdown",
   "metadata": {},
   "source": [
    "# Getting All Lists"
   ]
  },
  {
   "cell_type": "code",
   "execution_count": 7,
   "metadata": {},
   "outputs": [
    {
     "name": "stdout",
     "output_type": "stream",
     "text": [
      "All lists saved to all_lists.json.\n"
     ]
    }
   ],
   "source": [
    "# output_filename = 'all_lists.json'\n",
    "# with open(output_filename, 'w', encoding='utf-8') as file:\n",
    "#     url = f'https://api.nytimes.com/svc/books/v3/lists/names.json?api-key={api_key}' # all lists\n",
    "#     response = return_response(url)\n",
    "\n",
    "#     json.dump(response, file, indent=4)\n",
    "#     print(f'All lists saved to {output_filename}.')\n"
   ]
  },
  {
   "cell_type": "markdown",
   "metadata": {},
   "source": [
    "# Getting All Weeks"
   ]
  },
  {
   "cell_type": "code",
   "execution_count": 23,
   "metadata": {},
   "outputs": [
    {
     "name": "stdout",
     "output_type": "stream",
     "text": [
      "Response for week 2011-02-13 added to the list.\n",
      "Response for week 2011-02-20 added to the list.\n",
      "Response for week 2011-02-27 added to the list.\n",
      "Response for week 2011-03-06 added to the list.\n",
      "Response for week 2011-03-13 added to the list.\n",
      "Response for week 2011-03-20 added to the list.\n",
      "Response for week 2011-03-27 added to the list.\n",
      "Response for week 2011-04-03 added to the list.\n",
      "Response for week 2011-04-10 added to the list.\n",
      "Response for week 2011-04-17 added to the list.\n",
      "Response for week 2011-04-24 added to the list.\n",
      "Response for week 2011-05-01 added to the list.\n",
      "Response for week 2011-05-08 added to the list.\n",
      "Response for week 2011-05-15 added to the list.\n",
      "Response for week 2011-05-22 added to the list.\n",
      "Response for week 2011-05-29 added to the list.\n",
      "Response for week 2011-06-05 added to the list.\n",
      "Response for week 2011-06-12 added to the list.\n",
      "Response for week 2011-06-19 added to the list.\n",
      "Response for week 2011-06-26 added to the list.\n",
      "Response for week 2011-07-03 added to the list.\n",
      "Response for week 2011-07-10 added to the list.\n",
      "Response for week 2011-07-17 added to the list.\n",
      "Response for week 2011-07-24 added to the list.\n",
      "Response for week 2011-07-31 added to the list.\n",
      "Response for week 2011-08-07 added to the list.\n",
      "Response for week 2011-08-14 added to the list.\n",
      "Response for week 2011-08-21 added to the list.\n",
      "Response for week 2011-08-28 added to the list.\n",
      "Response for week 2011-09-04 added to the list.\n",
      "Response for week 2011-09-11 added to the list.\n",
      "Response for week 2011-09-18 added to the list.\n",
      "Response for week 2011-09-25 added to the list.\n",
      "Response for week 2011-10-02 added to the list.\n",
      "Response for week 2011-10-09 added to the list.\n",
      "Response for week 2011-10-16 added to the list.\n",
      "Response for week 2011-10-23 added to the list.\n",
      "Response for week 2011-10-30 added to the list.\n",
      "Response for week 2011-11-06 added to the list.\n",
      "Response for week 2011-11-13 added to the list.\n",
      "Response for week 2011-11-20 added to the list.\n",
      "Response for week 2011-11-27 added to the list.\n",
      "Response for week 2011-12-04 added to the list.\n",
      "Response for week 2011-12-11 added to the list.\n",
      "Response for week 2011-12-18 added to the list.\n",
      "Response for week 2011-12-25 added to the list.\n",
      "Response for week 2012-01-01 added to the list.\n",
      "Response for week 2012-01-08 added to the list.\n",
      "Response for week 2012-01-15 added to the list.\n",
      "Response for week 2012-01-22 added to the list.\n",
      "Response for week 2012-01-29 added to the list.\n",
      "Response for week 2012-02-05 added to the list.\n",
      "Response for week 2012-02-12 added to the list.\n",
      "Response for week 2012-02-19 added to the list.\n",
      "Response for week 2012-02-26 added to the list.\n",
      "Response for week 2012-03-04 added to the list.\n",
      "Response for week 2012-03-11 added to the list.\n",
      "Response for week 2012-03-18 added to the list.\n",
      "Response for week 2012-03-25 added to the list.\n",
      "Response for week 2012-04-01 added to the list.\n",
      "Response for week 2012-04-08 added to the list.\n",
      "Response for week 2012-04-15 added to the list.\n",
      "Response for week 2012-04-22 added to the list.\n",
      "Response for week 2012-04-29 added to the list.\n",
      "Response for week 2012-05-06 added to the list.\n",
      "Response for week 2012-05-13 added to the list.\n",
      "Response for week 2012-05-20 added to the list.\n",
      "Response for week 2012-05-27 added to the list.\n",
      "Response for week 2012-06-03 added to the list.\n",
      "Response for week 2012-06-10 added to the list.\n",
      "Response for week 2012-06-17 added to the list.\n",
      "Response for week 2012-06-24 added to the list.\n",
      "Response for week 2012-07-01 added to the list.\n",
      "Response for week 2012-07-08 added to the list.\n",
      "Response for week 2012-07-15 added to the list.\n",
      "Response for week 2012-07-22 added to the list.\n",
      "Response for week 2012-07-29 added to the list.\n",
      "Response for week 2012-08-05 added to the list.\n",
      "Response for week 2012-08-12 added to the list.\n",
      "Response for week 2012-08-19 added to the list.\n",
      "Response for week 2012-08-26 added to the list.\n",
      "Response for week 2012-09-02 added to the list.\n",
      "Response for week 2012-09-09 added to the list.\n",
      "Response for week 2012-09-16 added to the list.\n",
      "Response for week 2012-09-23 added to the list.\n",
      "Response for week 2012-09-30 added to the list.\n",
      "Response for week 2012-10-07 added to the list.\n",
      "Response for week 2012-10-14 added to the list.\n",
      "Response for week 2012-10-21 added to the list.\n",
      "Response for week 2012-10-28 added to the list.\n",
      "Response for week 2012-11-04 added to the list.\n",
      "Response for week 2012-11-11 added to the list.\n"
     ]
    }
   ],
   "source": [
    "start_date_str = '2011-02-13'\n",
    "end_date_str = '2023-12-10'\n",
    "\n",
    "start_date = datetime.strptime(start_date_str, '%Y-%m-%d')\n",
    "end_date = datetime.strptime(end_date_str, '%Y-%m-%d')\n",
    "\n",
    "all_responses = {}\n",
    "failed_week = []\n",
    "\n",
    "output_filename = 'all_weeks.jsonl'\n",
    "with open(output_filename, 'w', encoding='utf-8') as file:\n",
    "    for current_date in generate_date_range(start_date, end_date):\n",
    "        time.sleep(12) #\n",
    "        week = current_date.strftime('%Y-%m-%d')\n",
    "        url = f'https://api.nytimes.com/svc/books/v3/lists/{week}/combined-print-and-e-book-fiction.json?api-key={api_key}'\n",
    "        response = return_response(url)\n",
    "\n",
    "        if ('status' in response and response['status']=='OK'):\n",
    "            book = response['results']['books'][0]\n",
    "            book = {\n",
    "                'date': response['results']['published_date'],\n",
    "                'rank': book['rank'],\n",
    "                'title': book['title'],\n",
    "                'author': book['author'],\n",
    "                'primary_isbn10': book['primary_isbn10'],\n",
    "                'dagger': book['dagger'],\n",
    "            }\n",
    "            month = book['date'].split(\"-\")[0]+'-'+book['date'].split(\"-\")[1]\n",
    "            if month in all_responses:\n",
    "                all_responses[month].append(book)\n",
    "            else:\n",
    "                all_responses[month] = [book]\n",
    "\n",
    "            print(f'Response for week {week} added to the list.')\n",
    "\n",
    "        else:\n",
    "            print(week)\n",
    "            failed_week.append(week)\n",
    "\n",
    "    json.dump(all_responses, file, indent=2)\n"
   ]
  },
  {
   "cell_type": "markdown",
   "metadata": {},
   "source": [
    "# Parsing data into months"
   ]
  },
  {
   "cell_type": "code",
   "execution_count": null,
   "metadata": {},
   "outputs": [],
   "source": [
    "from collections import Counter\n",
    "\n",
    "all_responses_month = {}\n",
    "\n",
    "input_filename = 'all_books.json'\n",
    "output_filename = 'all_months.json'\n",
    "with open(output_filename, 'w', encoding='utf-8') as file:\n",
    "    with open(input_filename, 'r', encoding='utf-8') as read_file:\n",
    "        data = json.load(read_file)\n",
    "\n",
    "        for month in data.keys():\n",
    "            book_list = data[month]\n",
    "\n",
    "            titles = [book['title'] for book in book_list]\n",
    "            title_counts = Counter(titles)\n",
    "            most_common_title = title_counts.most_common(1)[0][0]\n",
    "\n",
    "            most_common_book = next(book for book in book_list if book['title'] == most_common_title)\n",
    "            all_responses_month[month] = most_common_book \n",
    "            \n",
    "    json.dump(all_responses_month, file, indent=2)\n"
   ]
  }
 ],
 "metadata": {
  "kernelspec": {
   "display_name": "Python 3",
   "language": "python",
   "name": "python3"
  },
  "language_info": {
   "codemirror_mode": {
    "name": "ipython",
    "version": 3
   },
   "file_extension": ".py",
   "mimetype": "text/x-python",
   "name": "python",
   "nbconvert_exporter": "python",
   "pygments_lexer": "ipython3",
   "version": "3.11.6"
  }
 },
 "nbformat": 4,
 "nbformat_minor": 2
}
